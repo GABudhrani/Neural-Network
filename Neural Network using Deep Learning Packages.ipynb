{
 "cells": [
  {
   "cell_type": "markdown",
   "id": "9e4b8b2f-5746-4bc9-a51e-b9f35a83dbe7",
   "metadata": {},
   "source": [
    "## Girish Amar Budhrani\n",
    "## Traning Neural Network Using Deep learning Packages"
   ]
  },
  {
   "cell_type": "code",
   "execution_count": 1,
   "id": "cbfcf922-f66c-454b-955a-497ef3615f13",
   "metadata": {},
   "outputs": [
    {
     "name": "stderr",
     "output_type": "stream",
     "text": [
      "Using TensorFlow backend.\n"
     ]
    }
   ],
   "source": [
    "## importing the required libraries\n",
    "import numpy as np\n",
    "from matplotlib import pyplot as plt\n",
    "import pandas as pd\n",
    "import seaborn as sns\n",
    "from sklearn.model_selection import train_test_split\n",
    "from keras.models import Sequential \n",
    "from keras.layers import Dense,Activation,Dropout \n",
    "from keras.layers.normalization import BatchNormalization \n",
    "from keras.utils import np_utils"
   ]
  },
  {
   "cell_type": "code",
   "execution_count": 2,
   "id": "4ca7b2ca-09f6-4cbf-9272-e872933387a4",
   "metadata": {
    "tags": []
   },
   "outputs": [],
   "source": [
    "# Loading Dataset and adding column names\n",
    "iris_df = pd.read_csv('iris.csv')\n",
    "iris_df.columns =[\"SepalLength\", \"SepalWidth\", \"PetalLength\", \"PetalWidth\",\"Species\"]"
   ]
  },
  {
   "cell_type": "markdown",
   "id": "bfef2c74-1335-4635-88d0-feee7b7ac41a",
   "metadata": {},
   "source": [
    "#### Normalizing the input columns"
   ]
  },
  {
   "cell_type": "code",
   "execution_count": 3,
   "id": "1e61a6ef-dd70-49c9-94dc-d0d71c36581a",
   "metadata": {},
   "outputs": [
    {
     "data": {
      "text/html": [
       "<div>\n",
       "<style scoped>\n",
       "    .dataframe tbody tr th:only-of-type {\n",
       "        vertical-align: middle;\n",
       "    }\n",
       "\n",
       "    .dataframe tbody tr th {\n",
       "        vertical-align: top;\n",
       "    }\n",
       "\n",
       "    .dataframe thead th {\n",
       "        text-align: right;\n",
       "    }\n",
       "</style>\n",
       "<table border=\"1\" class=\"dataframe\">\n",
       "  <thead>\n",
       "    <tr style=\"text-align: right;\">\n",
       "      <th></th>\n",
       "      <th>SepalLength</th>\n",
       "      <th>SepalWidth</th>\n",
       "      <th>PetalLength</th>\n",
       "      <th>PetalWidth</th>\n",
       "    </tr>\n",
       "  </thead>\n",
       "  <tbody>\n",
       "    <tr>\n",
       "      <th>70</th>\n",
       "      <td>0.500000</td>\n",
       "      <td>0.333333</td>\n",
       "      <td>0.508475</td>\n",
       "      <td>0.500000</td>\n",
       "    </tr>\n",
       "    <tr>\n",
       "      <th>67</th>\n",
       "      <td>0.527778</td>\n",
       "      <td>0.083333</td>\n",
       "      <td>0.593220</td>\n",
       "      <td>0.583333</td>\n",
       "    </tr>\n",
       "    <tr>\n",
       "      <th>11</th>\n",
       "      <td>0.138889</td>\n",
       "      <td>0.416667</td>\n",
       "      <td>0.067797</td>\n",
       "      <td>0.000000</td>\n",
       "    </tr>\n",
       "    <tr>\n",
       "      <th>38</th>\n",
       "      <td>0.222222</td>\n",
       "      <td>0.583333</td>\n",
       "      <td>0.084746</td>\n",
       "      <td>0.041667</td>\n",
       "    </tr>\n",
       "    <tr>\n",
       "      <th>123</th>\n",
       "      <td>0.666667</td>\n",
       "      <td>0.541667</td>\n",
       "      <td>0.796610</td>\n",
       "      <td>0.833333</td>\n",
       "    </tr>\n",
       "  </tbody>\n",
       "</table>\n",
       "</div>"
      ],
      "text/plain": [
       "     SepalLength  SepalWidth  PetalLength  PetalWidth\n",
       "70      0.500000    0.333333     0.508475    0.500000\n",
       "67      0.527778    0.083333     0.593220    0.583333\n",
       "11      0.138889    0.416667     0.067797    0.000000\n",
       "38      0.222222    0.583333     0.084746    0.041667\n",
       "123     0.666667    0.541667     0.796610    0.833333"
      ]
     },
     "execution_count": 3,
     "metadata": {},
     "output_type": "execute_result"
    }
   ],
   "source": [
    "iris_norm = iris_df[['SepalLength', 'SepalWidth', 'PetalLength', 'PetalWidth']].apply(lambda x: (x - x.min()) / (x.max() - x.min()))\n",
    "iris_norm.sample(5)"
   ]
  },
  {
   "cell_type": "markdown",
   "id": "8e0b4523-a694-42af-bbf9-a5da16258f0b",
   "metadata": {},
   "source": [
    "#### Converting output data in the form of 0, 1, 2"
   ]
  },
  {
   "cell_type": "code",
   "execution_count": 4,
   "id": "ed91609c-a9e9-4be5-a700-9d59f45b01c3",
   "metadata": {},
   "outputs": [],
   "source": [
    "y = iris_df[[\"Species\"]].replace(['Iris-setosa','Iris-versicolor','Iris-virginica'],[0,1,2])\n",
    "#### Merging the normalized data and the converted output\n",
    "data = pd.concat([iris_norm, y], axis = 1)"
   ]
  },
  {
   "cell_type": "markdown",
   "id": "e33cd190-1977-4460-92ec-a0f6f8eeb739",
   "metadata": {},
   "source": [
    "#### Spliting data in 80% input and 20* output data"
   ]
  },
  {
   "cell_type": "code",
   "execution_count": 5,
   "id": "b1707193-130d-40be-abe3-fccb2ed31b92",
   "metadata": {},
   "outputs": [],
   "source": [
    "train , test = train_test_split(data,test_size=0.2)"
   ]
  },
  {
   "cell_type": "code",
   "execution_count": 6,
   "id": "9cdbafd7-3a1f-42b2-85bd-55207c325469",
   "metadata": {},
   "outputs": [],
   "source": [
    "# X is the input for the model and y is the output for the model\n",
    "X = train.values[:,:4]\n",
    "X_test = test.values[:,:4]\n",
    "enco = [[1,0,0],[0,1,0],[0,0,1]]\n",
    "y = np.array([enco[int(x)] for x in train.values[:,4:5]])\n",
    "y_test = np.array([enco[int(x)] for x in test.values[:,4:5]])"
   ]
  },
  {
   "cell_type": "markdown",
   "id": "1092288b-4e78-4bbf-8874-f4db47fc916a",
   "metadata": {},
   "source": [
    "### Traing the model using Deep learning packages\n",
    "#### 1.)Using  reLU and softmax Activatin function"
   ]
  },
  {
   "cell_type": "code",
   "execution_count": 7,
   "id": "a4106137-895d-469f-8f38-fd9d95fbccb6",
   "metadata": {},
   "outputs": [
    {
     "name": "stdout",
     "output_type": "stream",
     "text": [
      "Model: \"sequential\"\n",
      "_________________________________________________________________\n",
      "Layer (type)                 Output Shape              Param #   \n",
      "=================================================================\n",
      "dense (Dense)                (None, 200)               1000      \n",
      "_________________________________________________________________\n",
      "dense_1 (Dense)              (None, 400)               80400     \n",
      "_________________________________________________________________\n",
      "dropout (Dropout)            (None, 400)               0         \n",
      "_________________________________________________________________\n",
      "dense_2 (Dense)              (None, 3)                 1203      \n",
      "=================================================================\n",
      "Total params: 82,603\n",
      "Trainable params: 82,603\n",
      "Non-trainable params: 0\n",
      "_________________________________________________________________\n"
     ]
    }
   ],
   "source": [
    "#### Adding three different layers to train the model\n",
    "model=Sequential()\n",
    "#### Adding layer and input dimensions \n",
    "model.add(Dense(200,input_dim=4,activation='relu'))\n",
    "model.add(Dense(400,activation='relu'))\n",
    "#### Adding the dropout to ignore overfitting\n",
    "model.add(Dropout(0.2))\n",
    "model.add(Dense(3,activation='softmax'))\n",
    "#### Compiling the model\n",
    "model.compile(loss='categorical_crossentropy',optimizer='adam',metrics=['accuracy'])\n",
    "model.summary()"
   ]
  },
  {
   "cell_type": "markdown",
   "id": "c1e72ded-e186-471f-b513-2ed5f17fa28d",
   "metadata": {},
   "source": [
    "#### Fitting model"
   ]
  },
  {
   "cell_type": "code",
   "execution_count": 8,
   "id": "8392951e-303d-4154-ab70-23b918f1b640",
   "metadata": {},
   "outputs": [
    {
     "name": "stdout",
     "output_type": "stream",
     "text": [
      "Epoch 1/10\n",
      "6/6 [==============================] - 0s 22ms/step - loss: 1.0249 - accuracy: 0.5798 - val_loss: 0.9315 - val_accuracy: 0.7000\n",
      "Epoch 2/10\n",
      "6/6 [==============================] - 0s 3ms/step - loss: 0.8778 - accuracy: 0.6555 - val_loss: 0.7991 - val_accuracy: 0.7000\n",
      "Epoch 3/10\n",
      "6/6 [==============================] - 0s 4ms/step - loss: 0.7498 - accuracy: 0.6555 - val_loss: 0.6730 - val_accuracy: 0.7000\n",
      "Epoch 4/10\n",
      "6/6 [==============================] - 0s 3ms/step - loss: 0.6345 - accuracy: 0.6555 - val_loss: 0.5641 - val_accuracy: 0.7000\n",
      "Epoch 5/10\n",
      "6/6 [==============================] - 0s 3ms/step - loss: 0.5431 - accuracy: 0.6639 - val_loss: 0.4859 - val_accuracy: 0.7000\n",
      "Epoch 6/10\n",
      "6/6 [==============================] - 0s 3ms/step - loss: 0.4795 - accuracy: 0.8067 - val_loss: 0.4356 - val_accuracy: 0.8000\n",
      "Epoch 7/10\n",
      "6/6 [==============================] - 0s 3ms/step - loss: 0.4302 - accuracy: 0.8655 - val_loss: 0.3980 - val_accuracy: 0.8333\n",
      "Epoch 8/10\n",
      "6/6 [==============================] - 0s 3ms/step - loss: 0.4023 - accuracy: 0.8571 - val_loss: 0.3723 - val_accuracy: 0.8000\n",
      "Epoch 9/10\n",
      "6/6 [==============================] - 0s 3ms/step - loss: 0.3665 - accuracy: 0.9076 - val_loss: 0.3452 - val_accuracy: 0.9000\n",
      "Epoch 10/10\n",
      "6/6 [==============================] - 0s 3ms/step - loss: 0.3452 - accuracy: 0.9160 - val_loss: 0.3271 - val_accuracy: 0.8333\n"
     ]
    },
    {
     "data": {
      "text/plain": [
       "<tensorflow.python.keras.callbacks.History at 0x7fbd05b4cdf0>"
      ]
     },
     "execution_count": 8,
     "metadata": {},
     "output_type": "execute_result"
    }
   ],
   "source": [
    "#### Fitting model\n",
    "model.fit(X,y,validation_data=(X_test,y_test),batch_size=20,epochs=10,verbose=1)"
   ]
  },
  {
   "cell_type": "markdown",
   "id": "a885e5b4-534c-429e-8b20-4fc761066bb7",
   "metadata": {},
   "source": [
    "#### Predicting the output from the above model and checking the accuracy of the model"
   ]
  },
  {
   "cell_type": "code",
   "execution_count": 9,
   "id": "dd1815d1-4f8b-464c-9b21-2d9d89deb168",
   "metadata": {},
   "outputs": [
    {
     "name": "stdout",
     "output_type": "stream",
     "text": [
      "Accuracy for this model is :- 83.33333333333334\n"
     ]
    }
   ],
   "source": [
    "prediction=model.predict(X_test)\n",
    "length=len(prediction)\n",
    "y_label=np.argmax(y_test,axis=1)\n",
    "predict_label=np.argmax(prediction,axis=1)\n",
    "\n",
    "accuracy=np.sum(y_label==predict_label)/length * 100 \n",
    "print(\"Accuracy for this model is :-\",accuracy )"
   ]
  },
  {
   "cell_type": "markdown",
   "id": "2c676344-9028-43d9-bd90-fb96acb79bbf",
   "metadata": {},
   "source": [
    "#### 2.)Using reLU, tanh, ELU and softmax Activatin function"
   ]
  },
  {
   "cell_type": "code",
   "execution_count": 10,
   "id": "f6c6abea-dd58-48e7-a4cf-4b9bf1863c20",
   "metadata": {},
   "outputs": [
    {
     "name": "stdout",
     "output_type": "stream",
     "text": [
      "Model: \"sequential_1\"\n",
      "_________________________________________________________________\n",
      "Layer (type)                 Output Shape              Param #   \n",
      "=================================================================\n",
      "dense_3 (Dense)              (None, 100)               500       \n",
      "_________________________________________________________________\n",
      "dense_4 (Dense)              (None, 300)               30300     \n",
      "_________________________________________________________________\n",
      "dense_5 (Dense)              (None, 600)               180600    \n",
      "_________________________________________________________________\n",
      "dropout_1 (Dropout)          (None, 600)               0         \n",
      "_________________________________________________________________\n",
      "dense_6 (Dense)              (None, 3)                 1803      \n",
      "=================================================================\n",
      "Total params: 213,203\n",
      "Trainable params: 213,203\n",
      "Non-trainable params: 0\n",
      "_________________________________________________________________\n"
     ]
    }
   ],
   "source": [
    "model_2=Sequential()\n",
    "#### Adding layers and input dimensions\n",
    "model_2.add(Dense(100,input_dim=4,activation='relu'))\n",
    "model_2.add(Dense(300,activation='tanh'))\n",
    "model_2.add(Dense(600,activation='elu'))\n",
    "#### Adding the dropout to ignore overfitting\n",
    "model_2.add(Dropout(0.2))\n",
    "model_2.add(Dense(3,activation='softmax'))\n",
    "model_2.compile(loss='categorical_crossentropy',optimizer='adam',metrics=['accuracy'])\n",
    "model_2.summary()"
   ]
  },
  {
   "cell_type": "code",
   "execution_count": 11,
   "id": "863161b1-aec6-462d-9cfb-9dd4f7e31485",
   "metadata": {},
   "outputs": [
    {
     "name": "stdout",
     "output_type": "stream",
     "text": [
      "Epoch 1/10\n",
      "6/6 [==============================] - 0s 18ms/step - loss: 0.9270 - accuracy: 0.4370 - val_loss: 0.6772 - val_accuracy: 0.8667\n",
      "Epoch 2/10\n",
      "6/6 [==============================] - 0s 4ms/step - loss: 0.5832 - accuracy: 0.6891 - val_loss: 0.4569 - val_accuracy: 0.7000\n",
      "Epoch 3/10\n",
      "6/6 [==============================] - 0s 4ms/step - loss: 0.4645 - accuracy: 0.6639 - val_loss: 0.4058 - val_accuracy: 0.9000\n",
      "Epoch 4/10\n",
      "6/6 [==============================] - 0s 3ms/step - loss: 0.4270 - accuracy: 0.8235 - val_loss: 0.3598 - val_accuracy: 0.7667\n",
      "Epoch 5/10\n",
      "6/6 [==============================] - 0s 3ms/step - loss: 0.3648 - accuracy: 0.7899 - val_loss: 0.3352 - val_accuracy: 0.8333\n",
      "Epoch 6/10\n",
      "6/6 [==============================] - 0s 3ms/step - loss: 0.3241 - accuracy: 0.9244 - val_loss: 0.2907 - val_accuracy: 0.8667\n",
      "Epoch 7/10\n",
      "6/6 [==============================] - 0s 3ms/step - loss: 0.2570 - accuracy: 0.9328 - val_loss: 0.2726 - val_accuracy: 0.8667\n",
      "Epoch 8/10\n",
      "6/6 [==============================] - 0s 3ms/step - loss: 0.2455 - accuracy: 0.9244 - val_loss: 0.2587 - val_accuracy: 0.8333\n",
      "Epoch 9/10\n",
      "6/6 [==============================] - 0s 3ms/step - loss: 0.1949 - accuracy: 0.9328 - val_loss: 0.1961 - val_accuracy: 0.9333\n",
      "Epoch 10/10\n",
      "6/6 [==============================] - 0s 3ms/step - loss: 0.1633 - accuracy: 0.9496 - val_loss: 0.1773 - val_accuracy: 0.9333\n"
     ]
    },
    {
     "data": {
      "text/plain": [
       "<tensorflow.python.keras.callbacks.History at 0x7fbce72e16a0>"
      ]
     },
     "execution_count": 11,
     "metadata": {},
     "output_type": "execute_result"
    }
   ],
   "source": [
    "model_2.fit(X,y,validation_data=(X_test,y_test),batch_size=20,epochs=10,verbose=1)"
   ]
  },
  {
   "cell_type": "code",
   "execution_count": 12,
   "id": "2812979f-6f85-4f0f-b700-97dc850b0bb4",
   "metadata": {},
   "outputs": [
    {
     "name": "stdout",
     "output_type": "stream",
     "text": [
      "Accuracy for this model is :- 93.33333333333333\n"
     ]
    }
   ],
   "source": [
    "prediction=model_2.predict(X_test)\n",
    "length=len(prediction)\n",
    "y_label=np.argmax(y_test,axis=1)\n",
    "predict_label=np.argmax(prediction,axis=1)\n",
    "\n",
    "accuracy=np.sum(y_label==predict_label)/length * 100 \n",
    "print(\"Accuracy for this model is :-\",accuracy )"
   ]
  },
  {
   "cell_type": "code",
   "execution_count": null,
   "id": "5f76860d-4874-404b-a6ec-b787765a0d3a",
   "metadata": {},
   "outputs": [],
   "source": []
  }
 ],
 "metadata": {
  "kernelspec": {
   "display_name": "Python 3",
   "language": "python",
   "name": "python3"
  },
  "language_info": {
   "codemirror_mode": {
    "name": "ipython",
    "version": 3
   },
   "file_extension": ".py",
   "mimetype": "text/x-python",
   "name": "python",
   "nbconvert_exporter": "python",
   "pygments_lexer": "ipython3",
   "version": "3.8.8"
  }
 },
 "nbformat": 4,
 "nbformat_minor": 5
}
